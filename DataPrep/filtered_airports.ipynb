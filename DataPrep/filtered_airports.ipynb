{
 "cells": [
  {
   "cell_type": "code",
   "execution_count": 4,
   "metadata": {},
   "outputs": [
    {
     "name": "stdout",
     "output_type": "stream",
     "text": [
      "Results saved to A319_coordinate_counts.csv\n",
      "Results saved to A320_coordinate_counts.csv\n",
      "Results saved to A321_coordinate_counts.csv\n",
      "Results saved to A332_coordinate_counts.csv\n"
     ]
    }
   ],
   "source": [
    "import pandas as pd\n",
    "\n",
    "# Function to process data for a specific aircraft type\n",
    "def process_flight_data(filepath, aircraft_type):\n",
    "    #Load the dataset\n",
    "    df = pd.read_pickle(filepath)\n",
    "    \n",
    "    #Filter for timestep == 0\n",
    "    df_filtered = df[df['timestep'] == 0].copy()\n",
    "    \n",
    "    #Extract lat and lon, round to 1 decimal place\n",
    "    df_filtered['lat_rounded'] = df_filtered['lat'].round(1).astype(str).str.replace('.', ',')\n",
    "    df_filtered['lon_rounded'] = df_filtered['lon'].round(1).astype(str).str.replace('.', ',')\n",
    "    \n",
    "    #Count occurrences of each (lat, lon) pair\n",
    "    coordinate_counts = df_filtered[['lat_rounded', 'lon_rounded']].value_counts().reset_index(name='count')\n",
    "    coordinate_counts.columns = ['lat_rounded', 'lon_rounded', 'count']\n",
    "    \n",
    "    #Export the results to a CSV file with semicolon separator and comma as decimal separator\n",
    "    output_filename = f\"{aircraft_type}_coordinate_counts.csv\"\n",
    "    \n",
    "    try:\n",
    "        coordinate_counts.to_csv(output_filename, sep=';', index=False)\n",
    "        print(f\"Results saved to {output_filename}\")\n",
    "    except OSError as e:\n",
    "        print(f\"Failed to save the file: {e}\")\n",
    "\n",
    "#Call the function\n",
    "process_flight_data(\"/Users/paulkloos/Desktop/ERASMUS/TIL_Python/Project/AC_Data/A319.pkl\", \"A319\")\n",
    "process_flight_data(\"/Users/paulkloos/Desktop/ERASMUS/TIL_Python/Project/AC_Data/A320.pkl\", \"A320\")\n",
    "process_flight_data(\"/Users/paulkloos/Desktop/ERASMUS/TIL_Python/Project/AC_Data/A321.pkl\", \"A321\")\n",
    "process_flight_data(\"/Users/paulkloos/Desktop/ERASMUS/TIL_Python/Project/AC_Data/A332.pkl\", \"A332\")"
   ]
  },
  {
   "cell_type": "code",
   "execution_count": 8,
   "metadata": {},
   "outputs": [
    {
     "name": "stdout",
     "output_type": "stream",
     "text": [
      "Coordinates which have been flown by minimum 15 aircrafts:\n",
      "      lat_rounded lon_rounded  count_a319  count_a320  count_a321  count_a332\n",
      "275         -23,4       -46,4          65        1563        1014         278\n",
      "276         -23,4       -46,5          61         682         424          84\n",
      "307         -23,6       -46,5          20         246         104          20\n",
      "818         -34,8       -56,0          67         218          49          35\n",
      "826         -34,8       -58,5          40          63          40         139\n",
      "...           ...         ...         ...         ...         ...         ...\n",
      "12652        55,6        37,3         117          51          42         115\n",
      "12750        55,8        -4,6          59         136          91          31\n",
      "12782        55,9        -3,4         875        1194         132          33\n",
      "13278        60,3        11,1          77         149          44          16\n",
      "13291        60,3        25,0         659         980        1166          16\n",
      "\n",
      "[97 rows x 6 columns]\n"
     ]
    }
   ],
   "source": [
    "import pandas as pd\n",
    "\n",
    "# Load the CSV files for the four aircraft types\n",
    "df_a319 = pd.read_csv(\"A319_coordinate_counts.csv\", sep=';')\n",
    "df_a320 = pd.read_csv(\"A320_coordinate_counts.csv\", sep=';')\n",
    "df_a321 = pd.read_csv(\"A321_coordinate_counts.csv\", sep=';')\n",
    "df_a332 = pd.read_csv(\"A332_coordinate_counts.csv\", sep=';')  # Renamed to A332\n",
    "\n",
    "# Rename columns to represent the occurrence counts for each aircraft type\n",
    "df_a319.rename(columns={'count': 'count_a319'}, inplace=True)\n",
    "df_a320.rename(columns={'count': 'count_a320'}, inplace=True)\n",
    "df_a321.rename(columns={'count': 'count_a321'}, inplace=True)\n",
    "df_a332.rename(columns={'count': 'count_a332'}, inplace=True)\n",
    "\n",
    "# Merge the four datasets based on the coordinates (lat_rounded and lon_rounded)\n",
    "combined = df_a319.merge(df_a320, on=['lat_rounded', 'lon_rounded'], how='outer') \\\n",
    "                  .merge(df_a321, on=['lat_rounded', 'lon_rounded'], how='outer') \\\n",
    "                  .merge(df_a332, on=['lat_rounded', 'lon_rounded'], how='outer')\n",
    "\n",
    "# Fill missing values with 0, since not all coordinates are present in each dataset\n",
    "combined.fillna(0, inplace=True)\n",
    "\n",
    "# Convert the counts to integers\n",
    "combined[['count_a319', 'count_a320', 'count_a321', 'count_a332']] = combined[['count_a319', 'count_a320', 'count_a321', 'count_a332']].astype(int)\n",
    "\n",
    "# Add a condition: Keep only the rows where all counts are >= 15\n",
    "filtered_combined = combined[(combined['count_a319'] >= 15) & \n",
    "                             (combined['count_a320'] >= 15) & \n",
    "                             (combined['count_a321'] >= 15) & \n",
    "                             (combined['count_a332'] >= 15)]\n",
    "\n",
    "# Display the result\n",
    "print(\"Coordinates flown by all four aircraft types with at least 15 occurrences:\")\n",
    "print(filtered_combined)\n",
    "\n",
    "#Save the result to a CSV file\n",
    "filtered_combined.to_csv(\"filtered_all_types_min_15_coordinates.csv\", sep=';', index=False"
   ]
  }
 ],
 "metadata": {
  "kernelspec": {
   "display_name": "TIL6022",
   "language": "python",
   "name": "python3"
  },
  "language_info": {
   "codemirror_mode": {
    "name": "ipython",
    "version": 3
   },
   "file_extension": ".py",
   "mimetype": "text/x-python",
   "name": "python",
   "nbconvert_exporter": "python",
   "pygments_lexer": "ipython3",
   "version": "3.12.4"
  }
 },
 "nbformat": 4,
 "nbformat_minor": 2
}
