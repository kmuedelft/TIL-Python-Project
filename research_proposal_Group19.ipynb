{
 "cells": [
  {
   "cell_type": "markdown",
   "metadata": {},
   "source": [
    "# Research Proposal – Team “Error not found” aka Group 19\n",
    "\n",
    "**Members:**\n",
    "- Paul Kloos - 6305245\n",
    "- Mega Pradipta - 6068308\n",
    "- Bryan Inggas - 5286654\n",
    "- Kai Müller - 6306101\n",
    "- Stefan Huber – 6306861\n",
    "\n",
    "# Research Objective:\n",
    "\n",
    "**Exploratory Analysis of Influencing Factors During the Climb Phase of Selected Airbus Aircraft**\n",
    "\n",
    "Sub-Research Questions (Sub-RQs):\n",
    "- How does velocity change over time during the climb phase?\n",
    "- How does altitude change over time during the climb phase?\n",
    "- How does climb rate change over time during the climb phase?\n",
    "- What factors contribute to deviations from the defined optimal climb rate?\n",
    "\n",
    "Each of these analyses will be conducted individually for selected Airbus models (A319, A320, A321, A330-200) to identify and showcase the differences in their climb performance characteristics.\n",
    "\n",
    "**Data Source:**\n",
    "\n",
    "The dataset for this analysis will be sourced from the OpenSky Network's publicly available dataset on climbing aircraft. Specifically, the validated files for the Airbus A319, A320, A321, and A330-200 will be used for analysis. The dataset contains training, validation, and testing files, and for this study, only the validation files will be selected to ensure unbiased results.\n",
    "\n",
    "Data source URL:\n",
    "*https://opensky-network.org/datasets/publication-data/climbing-aircraft-dataset/trajs/*\n",
    "\n",
    "Time Scale:\n",
    "The analysis will focus on data from the year 2017.\n",
    "\n",
    "Spatial Scale:\n",
    "The dataset includes global coverage, allowing for a worldwide analysis of climb performance across various regions.\n",
    "\n",
    "Visualization:\n",
    "Using 2D and if it is contributing also 3D graphs. The main plots are line and scatter plots. \n",
    "Data Pipeline:\n",
    "\n",
    "We are not 100% sure what is meant by data pipeline after looking up the term. From our understanding, this refers to the manipulation of data to make it usable for our questions. In our case, we plan to ensure that all units are consistent (e.g., all meters converted to kilometers) and exclude irrelevant data to reduce file sizes and improve processing time.\n"
   ]
  }
 ],
 "metadata": {
  "kernelspec": {
   "display_name": "TIL6022",
   "language": "python",
   "name": "python3"
  },
  "language_info": {
   "codemirror_mode": {
    "name": "ipython",
    "version": 3
   },
   "file_extension": ".py",
   "mimetype": "text/x-python",
   "name": "python",
   "nbconvert_exporter": "python",
   "pygments_lexer": "ipython3",
   "version": "3.12.4"
  }
 },
 "nbformat": 4,
 "nbformat_minor": 2
}
