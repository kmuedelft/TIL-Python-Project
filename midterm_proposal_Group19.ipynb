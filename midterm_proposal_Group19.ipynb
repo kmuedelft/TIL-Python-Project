{
 "cells": [
  {
   "cell_type": "markdown",
   "metadata": {},
   "source": [
    "# Research Proposal – Team “Error not found” aka Group 19\n",
    "\n",
    "**Members:**\n",
    "- Paul Kloos - 6305245\n",
    "- Mega Pradipta - 6068308\n",
    "- Bryan Inggas - 5286654\n",
    "- Kai Müller - 6306101\n",
    "- Stefan Huber – 6306861\n",
    "\n",
    "# Research Objective:\n",
    "\n",
    "**Exploratory Analysis of Influencing Factors During the Climb Phase of Selected Airbus Aircraft**\n",
    "\n",
    "Sub-Research Questions (Sub-RQs):\n",
    "- How does velocity change over time during the climb phase?\n",
    "- How does altitude change over time during the climb phase?\n",
    "- How does climb rate change over time during the climb phase?\n",
    "- What factors contribute to deviations from the defined optimal climb rate?\n",
    "\n",
    "Each of these analyses will be conducted individually for selected Airbus models (A319, A320, A321, A330-200) to identify and showcase the differences in their climb performance characteristics.\n",
    "\n",
    "# Data:\n",
    "\n",
    "The dataset for this analysis will be sourced from the OpenSky Network's publicly available dataset on climbing aircraft. Specifically, the validated files for the Airbus A319, A320, A321, and A330-200 will be used for analysis. The dataset contains training, validation, and testing files, and for this study, only the validation files will be selected to ensure unbiased results.\n",
    "\n",
    "**Data source URL:**\n",
    "\n",
    "*https://opensky-network.org/datasets/publication-data/climbing-aircraft-dataset/trajs/*\n",
    "\n",
    "**Time Scale:**\n",
    "\n",
    "The analysis will focus on data from the year 2017.\n",
    "\n",
    "**Spatial Scale:**\n",
    "\n",
    "The dataset initially includes global coverage, but it is further filtered through our data pipeline to include only flights from the city of Paris, which has the most flight data available and is being used by four of the aircraft we are focusing on.\n",
    "\n",
    "**Visualization:**\n",
    "\n",
    "Using 2D and if it is contributing also 3D graphs. The main plots used are line plots, scatter plots and correlation matrix. \n"
   ]
  },
  {
   "cell_type": "markdown",
   "metadata": {},
   "source": [
    "# Data Pipeline\n",
    "\n",
    "The datafile used for this analysis contains four different sets:\n",
    "\n",
    "1. **Climbing Dataset for Aircraft Model A319**\n",
    "   - This dataset includes climbing flight data specific to the Aircraft Model A319.\n",
    "   \n",
    "2. **Climbing Dataset for Aircraft Model A320**\n",
    "   - This dataset includes climbing flight data specific to the Aircraft Model A320.\n",
    "   \n",
    "3. **Climbing Dataset for Aircraft Model A321**\n",
    "   - This dataset includes climbing flight data specific to the Aircraft Model A321.\n",
    "   \n",
    "4. **Climbing Dataset for Aircraft Model A332 (A330-200)**\n",
    "   - This dataset includes climbing flight data specific to the Aircraft Model A332, also known as the A330-200.\n",
    "\n",
    "The dataset is then analyzed to assess its content and the description of each data item available.\n",
    "\n",
    "## Data Formatting and Filtering\n",
    "\n",
    "1. All data are in `csv.xz` format and will be loaded and converted to pickle files to be processed more efficiently.\n",
    "\n",
    "2. We identify and clean all the irrelevant data out of the dataset. Furthermore, by utilizing the latitude and longitude values, we precisely isolate and retain only the flight data to the area surrounding Paris. This targeted approach ensures that our analysis is specifically concentrated on flights in their climbing phase around the city of Paris.\n",
    "\n",
    "3. After conversion, the data will be processed into dataframes for further analysis.further analysis.roup."
   ]
  },
  {
   "cell_type": "code",
   "execution_count": 35,
   "metadata": {},
   "outputs": [
    {
     "data": {
      "text/plain": [
       "'Insert Code for preparation data processing here'"
      ]
     },
     "execution_count": 35,
     "metadata": {},
     "output_type": "execute_result"
    }
   ],
   "source": [
    "'Insert Code for preparation data here'"
   ]
  },
  {
   "cell_type": "code",
   "execution_count": 37,
   "metadata": {},
   "outputs": [
    {
     "data": {
      "text/plain": [
       "'figure of map range of Paris'"
      ]
     },
     "execution_count": 37,
     "metadata": {},
     "output_type": "execute_result"
    }
   ],
   "source": [
    "'figure of map range of Paris'"
   ]
  },
  {
   "cell_type": "markdown",
   "metadata": {},
   "source": [
    "## Processing the data\n",
    "**1.** Creating the groups which indicated seperate flight activity: This is achieved by grouping the data set by unique segment number.\n",
    "\n",
    "**2.** We also look at each data column that can answer our sub-research question, which is:\n",
    "- How does velocity change over time during the climb phase?\n",
    "- How does altitude change over time during the climb phase?\n",
    "\n",
    "**3.** Next, these data (velocity and altitude) will be plotted over its timestep to get the line graphics per flight activities of each aircraft. \n",
    "    \n"
   ]
  },
  {
   "cell_type": "code",
   "execution_count": 13,
   "metadata": {},
   "outputs": [
    {
     "data": {
      "text/plain": [
       "'Insert Code for data processing (plotting velocity and altitude over time) here'"
      ]
     },
     "execution_count": 13,
     "metadata": {},
     "output_type": "execute_result"
    }
   ],
   "source": [
    "'Insert Code for data processing (plotting velocity and altitude over time) here'"
   ]
  },
  {
   "cell_type": "markdown",
   "metadata": {},
   "source": [
    "## Calculating the Climb Rate\n",
    "\n",
    "**1.** The climb rate is a measurement of how quickly an aircraft can increase its altitude. It is usually expressed in feet per minute (fpm) or meters per second (m/s). This parameter is crucial in aviation, affecting the efficiency, safety, and performance of flight operations.\n",
    "\n",
    "**2.** The climb rate can be calculated using the formula:\n",
    "   $$\\text{Climb Rate} = \\frac{\\Delta \\text{Altitude}}{\\Delta \\text{Time}}$$\n",
    "   Where:\n",
    "   - $\\Delta \\text{Altitude}$ is the change in altitude.\n",
    "   - $\\Delta \\text{Time}$ is the time it takes for that change.\n",
    "\n",
    "**3.** Next, this calculation will be derived from the `baroaltitude` and `timestep` columns in our data."
   ]
  },
  {
   "cell_type": "code",
   "execution_count": null,
   "metadata": {},
   "outputs": [],
   "source": [
    "'Insert Code for Climb Rate data processing here'"
   ]
  },
  {
   "cell_type": "markdown",
   "metadata": {},
   "source": [
    "## Factors Contributing to Deviation of Climb Rate from Its Optimal Range\n",
    "\n",
    "**1.** The climb rate of each aircraft model has its own optimal range.\n",
    "\n",
    "**2.** We can determine when each aircraft's climb rate deviates from its optimal range (entering and exiting).\n",
    "\n",
    "**3.** A correlation matrix is used to see the impact of each parameter in relation to each other and with the climb rate of each aircraft.craft."
   ]
  },
  {
   "cell_type": "code",
   "execution_count": null,
   "metadata": {},
   "outputs": [],
   "source": [
    "'Insert Code for Adding enter-exit marker for climb rate'"
   ]
  },
  {
   "cell_type": "code",
   "execution_count": null,
   "metadata": {},
   "outputs": [],
   "source": [
    "'Insert Code for the correlation matrix'"
   ]
  }
 ],
 "metadata": {
  "kernelspec": {
   "display_name": "Python 3 (ipykernel)",
   "language": "python",
   "name": "python3"
  },
  "language_info": {
   "codemirror_mode": {
    "name": "ipython",
    "version": 3
   },
   "file_extension": ".py",
   "mimetype": "text/x-python",
   "name": "python",
   "nbconvert_exporter": "python",
   "pygments_lexer": "ipython3",
   "version": "3.12.4"
  }
 },
 "nbformat": 4,
 "nbformat_minor": 4
}
